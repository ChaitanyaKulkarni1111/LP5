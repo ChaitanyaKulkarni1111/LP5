{
 "cells": [
  {
   "cell_type": "code",
   "execution_count": 1,
   "id": "4c1d803f",
   "metadata": {},
   "outputs": [],
   "source": [
    "from tensorflow.keras.datasets import imdb"
   ]
  },
  {
   "cell_type": "code",
   "execution_count": 2,
   "id": "05bf08ee",
   "metadata": {},
   "outputs": [
    {
     "name": "stdout",
     "output_type": "stream",
     "text": [
      "Downloading data from https://storage.googleapis.com/tensorflow/tf-keras-datasets/imdb.npz\n",
      "17465344/17464789 [==============================] - 1s 0us/step\n",
      "17473536/17464789 [==============================] - 1s 0us/step\n"
     ]
    }
   ],
   "source": [
    "(train_data, train_label), (test_data, test_label) = imdb.load_data(num_words = 10000)"
   ]
  },
  {
   "cell_type": "code",
   "execution_count": 3,
   "id": "444f33e5",
   "metadata": {},
   "outputs": [],
   "source": [
    "import numpy as np\n",
    "\n",
    "def vectorize_sequences(sequences, dimensions = 10000):\n",
    "  results = np.zeros((len(sequences), dimensions))\n",
    "  for i,sequences in enumerate(sequences):\n",
    "    results[i, sequences] = 1\n",
    "  return results\n",
    "\n",
    "x_train = vectorize_sequences(train_data)\n",
    "y_train = vectorize_sequences(test_data)"
   ]
  },
  {
   "cell_type": "code",
   "execution_count": 4,
   "id": "7f5a8ab5",
   "metadata": {},
   "outputs": [],
   "source": [
    "y_train = np.asarray(train_label).astype('float32')\n",
    "y_test = np.asarray(test_label).astype('float32')"
   ]
  },
  {
   "cell_type": "code",
   "execution_count": 5,
   "id": "8cfd23fc",
   "metadata": {},
   "outputs": [],
   "source": [
    "from tensorflow.keras.models import Sequential\n",
    "from tensorflow.keras.layers import Dense"
   ]
  },
  {
   "cell_type": "code",
   "execution_count": 6,
   "id": "c36461bb",
   "metadata": {},
   "outputs": [],
   "source": [
    "model = Sequential()\n",
    "model.add(Dense(16, input_shape=(10000, ), activation = \"relu\"))\n",
    "model.add(Dense(16, activation = \"relu\"))\n",
    "model.add(Dense(1, activation = \"sigmoid\"))"
   ]
  },
  {
   "cell_type": "code",
   "execution_count": 7,
   "id": "c4a52ab5",
   "metadata": {},
   "outputs": [],
   "source": [
    "model.compile(optimizer='adam', loss = 'mse', metrics = ['accuracy'])"
   ]
  },
  {
   "cell_type": "code",
   "execution_count": 8,
   "id": "eae8294c",
   "metadata": {},
   "outputs": [
    {
     "name": "stdout",
     "output_type": "stream",
     "text": [
      "Model: \"sequential\"\n",
      "_________________________________________________________________\n",
      " Layer (type)                Output Shape              Param #   \n",
      "=================================================================\n",
      " dense (Dense)               (None, 16)                160016    \n",
      "                                                                 \n",
      " dense_1 (Dense)             (None, 16)                272       \n",
      "                                                                 \n",
      " dense_2 (Dense)             (None, 1)                 17        \n",
      "                                                                 \n",
      "=================================================================\n",
      "Total params: 160,305\n",
      "Trainable params: 160,305\n",
      "Non-trainable params: 0\n",
      "_________________________________________________________________\n"
     ]
    }
   ],
   "source": [
    "model.summary()"
   ]
  },
  {
   "cell_type": "code",
   "execution_count": 9,
   "id": "84d56141",
   "metadata": {},
   "outputs": [
    {
     "name": "stdout",
     "output_type": "stream",
     "text": [
      "Epoch 1/20\n",
      "35/35 [==============================] - 6s 153ms/step - loss: 0.2148 - accuracy: 0.6167 - val_loss: 0.1806 - val_accuracy: 0.7911\n",
      "Epoch 2/20\n",
      "35/35 [==============================] - 1s 18ms/step - loss: 0.1556 - accuracy: 0.8639 - val_loss: 0.1540 - val_accuracy: 0.8588\n",
      "Epoch 3/20\n",
      "35/35 [==============================] - 1s 22ms/step - loss: 0.1104 - accuracy: 0.9341 - val_loss: 0.0934 - val_accuracy: 0.8893\n",
      "Epoch 4/20\n",
      "35/35 [==============================] - 1s 18ms/step - loss: 0.0489 - accuracy: 0.9509 - val_loss: 0.0840 - val_accuracy: 0.8867\n",
      "Epoch 5/20\n",
      "35/35 [==============================] - 1s 18ms/step - loss: 0.0312 - accuracy: 0.9698 - val_loss: 0.0851 - val_accuracy: 0.8853\n",
      "Epoch 6/20\n",
      "35/35 [==============================] - 1s 18ms/step - loss: 0.0219 - accuracy: 0.9812 - val_loss: 0.0872 - val_accuracy: 0.8857\n",
      "Epoch 7/20\n",
      "35/35 [==============================] - 1s 18ms/step - loss: 0.0156 - accuracy: 0.9874 - val_loss: 0.0899 - val_accuracy: 0.8840\n",
      "Epoch 8/20\n",
      "35/35 [==============================] - 1s 19ms/step - loss: 0.0117 - accuracy: 0.9911 - val_loss: 0.0915 - val_accuracy: 0.8805\n",
      "Epoch 9/20\n",
      "35/35 [==============================] - 1s 22ms/step - loss: 0.0090 - accuracy: 0.9931 - val_loss: 0.0936 - val_accuracy: 0.8784\n",
      "Epoch 10/20\n",
      "35/35 [==============================] - 1s 19ms/step - loss: 0.0073 - accuracy: 0.9945 - val_loss: 0.0949 - val_accuracy: 0.8791\n",
      "Epoch 11/20\n",
      "35/35 [==============================] - 1s 18ms/step - loss: 0.0063 - accuracy: 0.9951 - val_loss: 0.0963 - val_accuracy: 0.8769\n",
      "Epoch 12/20\n",
      "35/35 [==============================] - 1s 20ms/step - loss: 0.0055 - accuracy: 0.9956 - val_loss: 0.0972 - val_accuracy: 0.8768\n",
      "Epoch 13/20\n",
      "35/35 [==============================] - 1s 26ms/step - loss: 0.0050 - accuracy: 0.9959 - val_loss: 0.0982 - val_accuracy: 0.8755\n",
      "Epoch 14/20\n",
      "35/35 [==============================] - 1s 21ms/step - loss: 0.0047 - accuracy: 0.9959 - val_loss: 0.0992 - val_accuracy: 0.8749\n",
      "Epoch 15/20\n",
      "35/35 [==============================] - 1s 17ms/step - loss: 0.0044 - accuracy: 0.9963 - val_loss: 0.0998 - val_accuracy: 0.8745\n",
      "Epoch 16/20\n",
      "35/35 [==============================] - 1s 18ms/step - loss: 0.0041 - accuracy: 0.9965 - val_loss: 0.1005 - val_accuracy: 0.8751\n",
      "Epoch 17/20\n",
      "35/35 [==============================] - 1s 18ms/step - loss: 0.0039 - accuracy: 0.9966 - val_loss: 0.1013 - val_accuracy: 0.8731\n",
      "Epoch 18/20\n",
      "35/35 [==============================] - 1s 17ms/step - loss: 0.0038 - accuracy: 0.9967 - val_loss: 0.1018 - val_accuracy: 0.8728\n",
      "Epoch 19/20\n",
      "35/35 [==============================] - 1s 17ms/step - loss: 0.0036 - accuracy: 0.9968 - val_loss: 0.1022 - val_accuracy: 0.8725\n",
      "Epoch 20/20\n",
      "35/35 [==============================] - 1s 16ms/step - loss: 0.0035 - accuracy: 0.9968 - val_loss: 0.1023 - val_accuracy: 0.8740\n"
     ]
    }
   ],
   "source": [
    "history = model.fit(x_train, y_train, validation_split = 0.3, epochs = 20, verbose = 1, batch_size = 512)"
   ]
  },
  {
   "cell_type": "code",
   "execution_count": null,
   "id": "ef8c8e39",
   "metadata": {},
   "outputs": [],
   "source": []
  }
 ],
 "metadata": {
  "kernelspec": {
   "display_name": "Python 3",
   "language": "python",
   "name": "python3"
  },
  "language_info": {
   "codemirror_mode": {
    "name": "ipython",
    "version": 3
   },
   "file_extension": ".py",
   "mimetype": "text/x-python",
   "name": "python",
   "nbconvert_exporter": "python",
   "pygments_lexer": "ipython3",
   "version": "3.8.8"
  }
 },
 "nbformat": 4,
 "nbformat_minor": 5
}
